{
 "cells": [
  {
   "cell_type": "code",
   "execution_count": null,
   "metadata": {
    "scrolled": false
   },
   "outputs": [],
   "source": [
    "from matplotlib import pyplot as plt\n",
    "from initial_path import get_path\n",
    "\n",
    "def viz(path, x: int, y: int):\n",
    "    plt.figure(figsize=(x, y))\n",
    "    plt.grid()\n",
    "    plt.xticks(list(range(0, x+1)))\n",
    "    plt.yticks(list(range(0, y+1)))\n",
    "    for (x_ip, y_ip), (x_i, y_i) in zip(path[:-1], path[1:]):\n",
    "        plt.arrow(x_ip + 0.5, y_ip + 0.5, x_i-x_ip, y_i-y_ip, width=0.05)\n",
    "    plt.show()\n",
    "\n",
    "def main():\n",
    "    x, y = 7, 7\n",
    "    for _ in range(3):\n",
    "        path = get_path(x, y)\n",
    "        viz(path, x, y)\n",
    "\n",
    "main()"
   ]
  }
 ],
 "metadata": {
  "kernelspec": {
   "display_name": "Python 3",
   "language": "python",
   "name": "python3"
  },
  "language_info": {
   "codemirror_mode": {
    "name": "ipython",
    "version": 3
   },
   "file_extension": ".py",
   "mimetype": "text/x-python",
   "name": "python",
   "nbconvert_exporter": "python",
   "pygments_lexer": "ipython3",
   "version": "3.8.1"
  }
 },
 "nbformat": 4,
 "nbformat_minor": 2
}
