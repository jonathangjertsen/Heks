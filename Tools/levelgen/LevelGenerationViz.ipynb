{
 "cells": [
  {
   "cell_type": "code",
   "execution_count": null,
   "metadata": {
    "scrolled": false
   },
   "outputs": [],
   "source": [
    "from matplotlib import pyplot as plt\n",
    "from level_generation import get_initial_path, add_branches\n",
    "\n",
    "main_col = \"#44aa44\"\n",
    "branch_col = \"#aa4444\"\n",
    "\n",
    "def viz(paths, x: int, y: int):\n",
    "    plt.figure(figsize=(x, y))\n",
    "    plt.grid()\n",
    "    plt.xticks(list(range(0, x+1)))\n",
    "    plt.yticks(list(range(0, y+1)))\n",
    "    is_branch = False\n",
    "    for path in paths:\n",
    "        if is_branch:\n",
    "            color = branch_col\n",
    "        else:\n",
    "            color = main_col\n",
    "            is_branch = True\n",
    "        for (x_ip, y_ip), (x_i, y_i) in zip(path[:-1], path[1:]):\n",
    "            plt.arrow(x_ip + 0.5, y_ip + 0.5, x_i-x_ip, y_i-y_ip, width=0.05, color=color)\n",
    "    plt.show()\n",
    "\n",
    "def main():\n",
    "    x, y = 7, 7\n",
    "    for _ in range(3):\n",
    "        path = get_initial_path(x, y, 0.45, 0.55)\n",
    "        viz([path] + add_branches(path, x, y), x, y)\n",
    "\n",
    "main()"
   ]
  },
  {
   "cell_type": "code",
   "execution_count": null,
   "metadata": {},
   "outputs": [],
   "source": []
  }
 ],
 "metadata": {
  "kernelspec": {
   "display_name": "Python 3",
   "language": "python",
   "name": "python3"
  },
  "language_info": {
   "codemirror_mode": {
    "name": "ipython",
    "version": 3
   },
   "file_extension": ".py",
   "mimetype": "text/x-python",
   "name": "python",
   "nbconvert_exporter": "python",
   "pygments_lexer": "ipython3",
   "version": "3.8.1"
  }
 },
 "nbformat": 4,
 "nbformat_minor": 2
}
