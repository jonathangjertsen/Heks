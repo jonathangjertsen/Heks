{
 "cells": [
  {
   "cell_type": "code",
   "execution_count": null,
   "metadata": {},
   "outputs": [],
   "source": [
    "%load_ext autoreload\n",
    "%autoreload 2"
   ]
  },
  {
   "cell_type": "code",
   "execution_count": null,
   "metadata": {
    "scrolled": false
   },
   "outputs": [],
   "source": [
    "from matplotlib import pyplot as plt\n",
    "from level_generation import get_level\n",
    "\n",
    "main_col = \"#44aa44\"\n",
    "branch_col = \"#aa4444\"\n",
    "\n",
    "def show_level(xarr, yarr, scale, x, y, title):\n",
    "    plt.figure(figsize=(12, 12 * (y / x)))\n",
    "    plt.fill(list(xarr), list(yarr), alpha=0.5)\n",
    "    plt.plot(list(xarr), list(yarr))\n",
    "    plt.xlim((-x*(scale*0.1), x*scale*1.1))\n",
    "    plt.ylim((-y*(scale*0.1), y*scale*1.1))\n",
    "    plt.title(title)\n",
    "    plt.show()\n",
    "\n",
    "def main():\n",
    "    x, y = 20, 20\n",
    "    for max_branches in [0, 3, 6, None]:\n",
    "        for critical_path_min_frac in [0.1, 0.2, 0.5, 0.8]:\n",
    "            for pre_simplify in [0, 0.1, 0.5]:\n",
    "                for scale in [10, 100, 1000]:\n",
    "                    for buffer in [0.1, 0.2, 0.3]:\n",
    "                        xarr, yarr = get_level(\n",
    "                            cells_x = x,\n",
    "                            cells_y = y,\n",
    "                            critical_path_min_frac=critical_path_min_frac,\n",
    "                            critical_path_max_frac=critical_path_min_frac+0.1,\n",
    "                            scale=scale,\n",
    "                            pre_simplify=pre_simplify,\n",
    "                            buffer=buffer,\n",
    "                            max_branches=3,\n",
    "                        )\n",
    "                        title = f\"max_branches={max_branches}, min_frac={critical_path_min_frac}, scale={scale}, buffer={buffer}, pre_simplify={pre_simplify}\"\n",
    "                        show_level(xarr, yarr, scale, x, y, title)\n",
    "main()"
   ]
  },
  {
   "cell_type": "code",
   "execution_count": null,
   "metadata": {
    "scrolled": false
   },
   "outputs": [],
   "source": []
  },
  {
   "cell_type": "code",
   "execution_count": null,
   "metadata": {},
   "outputs": [],
   "source": []
  }
 ],
 "metadata": {
  "kernelspec": {
   "display_name": "Python 3",
   "language": "python",
   "name": "python3"
  },
  "language_info": {
   "codemirror_mode": {
    "name": "ipython",
    "version": 3
   },
   "file_extension": ".py",
   "mimetype": "text/x-python",
   "name": "python",
   "nbconvert_exporter": "python",
   "pygments_lexer": "ipython3",
   "version": "3.8.1"
  }
 },
 "nbformat": 4,
 "nbformat_minor": 2
}
